{
  "nbformat": 4,
  "nbformat_minor": 0,
  "metadata": {
    "colab": {
      "name": "Anime_Segmentation.ipynb",
      "provenance": []
    },
    "kernelspec": {
      "name": "python3",
      "display_name": "Python 3"
    },
    "accelerator": "GPU"
  },
  "cells": [
    {
      "cell_type": "code",
      "metadata": {
        "id": "iL220U5x7ZGo"
      },
      "source": [
        "from google_drive_downloader import GoogleDriveDownloader as gdd\n",
        "from IPython.display import Image, clear_output"
      ],
      "execution_count": null,
      "outputs": []
    },
    {
      "cell_type": "code",
      "metadata": {
        "id": "lqLUGAPr7jlq"
      },
      "source": [
        "# install dependencies: \n",
        "!pip install pyyaml==5.1 pycocotools>=2.0.1\n",
        "import torch, torchvision\n",
        "print(torch.__version__, torch.cuda.is_available())\n",
        "!gcc --version\n",
        "clear_output()"
      ],
      "execution_count": null,
      "outputs": []
    },
    {
      "cell_type": "code",
      "metadata": {
        "id": "7fpWsk8K7k3A"
      },
      "source": [
        "# install detectron2: (Colab has CUDA 10.1 + torch 1.6)\n",
        "# See https://detectron2.readthedocs.io/tutorials/install.html for instructions\n",
        "assert torch.__version__.startswith(\"1.6\")\n",
        "!pip install detectron2 -f https://dl.fbaipublicfiles.com/detectron2/wheels/cu101/torch1.6/index.html\n",
        "clear_output()"
      ],
      "execution_count": null,
      "outputs": []
    },
    {
      "cell_type": "code",
      "metadata": {
        "id": "Ovl-4PJX7xW6"
      },
      "source": [
        "# install AdelaiDet\n",
        "%cd /content\n",
        "!git clone https://github.com/aim-uofa/AdelaiDet.git\n",
        "%cd AdelaiDet\n",
        "!python setup.py build develop\n",
        "clear_output()"
      ],
      "execution_count": null,
      "outputs": []
    },
    {
      "cell_type": "code",
      "metadata": {
        "id": "zanbjXlI79PJ"
      },
      "source": [
        "# download model weights and config \n",
        "gdd.download_file_from_google_drive(file_id='1-AmeAiTrtaPcNLUnRAovpveMkSxxpkKQ', dest_path='./model.pth')\n",
        "!wget https://github.com/zymk9/Yet-Another-Anime-Segmenter/raw/main/config.yaml"
      ],
      "execution_count": null,
      "outputs": []
    },
    {
      "cell_type": "code",
      "metadata": {
        "id": "rI5XAMU3VOFf"
      },
      "source": [
        "# do inference\n",
        "!python demo/demo.py --input ./input.jpg --config-file ./config.yaml --output /content/output.jpg --opts MODEL.WEIGHTS ./model.pth"
      ],
      "execution_count": null,
      "outputs": []
    }
  ]
}
